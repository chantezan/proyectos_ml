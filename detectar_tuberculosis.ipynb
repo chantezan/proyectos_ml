{
  "nbformat": 4,
  "nbformat_minor": 0,
  "metadata": {
    "colab": {
      "name": "detectar_tuberculosis.ipynb",
      "version": "0.3.2",
      "provenance": [],
      "collapsed_sections": [],
      "include_colab_link": true
    },
    "kernelspec": {
      "name": "python3",
      "display_name": "Python 3"
    }
  },
  "cells": [
    {
      "cell_type": "markdown",
      "metadata": {
        "id": "view-in-github",
        "colab_type": "text"
      },
      "source": [
        "[View in Colaboratory](https://colab.research.google.com/github/chantezan/proyectos_ml/blob/master/detectar_tuberculosis.ipynb)"
      ]
    },
    {
      "metadata": {
        "id": "uTjIoH0CkSFu",
        "colab_type": "text"
      },
      "cell_type": "markdown",
      "source": [
        "Los datos a utilizar son 668 imagenes en formato png de 2814x2945 obtenidas de un dataset publico en https://www.kaggle.com/kmader/pulmonary-chest-xray-abnormalities/home. Las imagenes son radiografias que usan los medicos para diagnosticar tuberculosis.\n",
        "\n",
        "Se espera poder lograr predecir si una radiografia presenta el diagnostico de tuberculosis, hay distintos retos porque hay distintos tipos de tuberculosis en los pulmones y se espera poder agrupar todos los tipos de tuberculosis en si presenta o no tuberculosis, podrian haber tipos de tuberculosis que serian menos detectables que otras.\n",
        "\n",
        "sadasd\n",
        "fdgdfgdfgd\n",
        "fghfghf"
      ]
    },
    {
      "metadata": {
        "id": "0LoYMP2WkRF3",
        "colab_type": "code",
        "colab": {}
      },
      "cell_type": "code",
      "source": [
        ""
      ],
      "execution_count": 0,
      "outputs": []
    },
    {
      "metadata": {
        "id": "aTHRxsnnkMdN",
        "colab_type": "code",
        "colab": {}
      },
      "cell_type": "code",
      "source": [
        ""
      ],
      "execution_count": 0,
      "outputs": []
    }
  ]
}